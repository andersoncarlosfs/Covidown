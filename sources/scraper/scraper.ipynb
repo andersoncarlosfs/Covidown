{
 "cells": [
  {
   "cell_type": "code",
   "execution_count": 1,
   "metadata": {},
   "outputs": [],
   "source": [
    "import os\n",
    "import urllib.request\n",
    "import xml.etree.ElementTree"
   ]
  },
  {
   "cell_type": "code",
   "execution_count": 2,
   "metadata": {},
   "outputs": [],
   "source": [
    "tree = xml.etree.ElementTree.parse('input/countries.xml')"
   ]
  },
  {
   "cell_type": "code",
   "execution_count": 3,
   "metadata": {},
   "outputs": [],
   "source": [
    "root = tree.getroot()"
   ]
  },
  {
   "cell_type": "code",
   "execution_count": 4,
   "metadata": {},
   "outputs": [],
   "source": [
    "def download(source, target, path):\n",
    "    url = str('https://www.cia.gov/library/publications/the-world-factbook/attachments/' + source + path)        \n",
    "\n",
    "    archive = str('output/' + target + path)\n",
    "\n",
    "    os.makedirs(os.path.dirname(archive), exist_ok = True)\n",
    "\n",
    "    try:\n",
    "        urllib.request.urlretrieve(url, archive)\n",
    "    except:\n",
    "        pass"
   ]
  },
  {
   "cell_type": "code",
   "execution_count": 5,
   "metadata": {},
   "outputs": [],
   "source": [
    "for child in root.iter():\n",
    "    if child.tag == 'country':\n",
    "        \n",
    "        name = child.text.strip()\n",
    "        code = child.attrib['data-place-code'].upper()\n",
    "            \n",
    "        for r in ['large/', 'thumb/']:\n",
    "        \n",
    "            # photos\n",
    "            for i in range(1, 10):                \n",
    "                download('images/', 'photos/', str(r  + code + '_00' + str(i) + '_large.jpg'))\n",
    "                           \n",
    "            # area\n",
    "            download('images/', 'areas/', str(r + code + '_area.jpg'))\n",
    "                    \n",
    "        # flags\n",
    "        download('flags/', 'flags/', str( code + '-flag.gif'))\n",
    "          \n",
    "        # locator maps\n",
    "        download('locator-maps/', 'locator-maps/', str(code + '-locator-map.gif'))\n",
    "\n",
    "        # maps\n",
    "        download('maps/', 'maps/', str(code + '-map.gif'))"
   ]
  },
  {
   "cell_type": "code",
   "execution_count": null,
   "metadata": {},
   "outputs": [],
   "source": []
  }
 ],
 "metadata": {
  "kernelspec": {
   "display_name": "Python [conda env:warehouse_io] *",
   "language": "python",
   "name": "conda-env-warehouse_io-py"
  },
  "language_info": {
   "codemirror_mode": {
    "name": "ipython",
    "version": 3
   },
   "file_extension": ".py",
   "mimetype": "text/x-python",
   "name": "python",
   "nbconvert_exporter": "python",
   "pygments_lexer": "ipython3",
   "version": "3.7.4"
  }
 },
 "nbformat": 4,
 "nbformat_minor": 2
}
